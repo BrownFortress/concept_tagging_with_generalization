{
 "cells": [
  {
   "cell_type": "code",
   "execution_count": 1,
   "metadata": {},
   "outputs": [],
   "source": [
    "import pandas as pd\n",
    "import os\n",
    "import re\n",
    "from processing import Processing as p"
   ]
  },
  {
   "cell_type": "code",
   "execution_count": 36,
   "metadata": {},
   "outputs": [],
   "source": [
    "all_celebrities = []\n",
    "all_movies = []"
   ]
  },
  {
   "cell_type": "code",
   "execution_count": 37,
   "metadata": {},
   "outputs": [],
   "source": [
    "for path in os.listdir(\"dataset/movies/\"):\n",
    "\n",
    "    f = pd.read_csv(\"dataset/movies/\" + path, encoding='latin-1')\n",
    "    titles = f[\"Title\"].tolist()\n",
    "    directors = f[\"Directors\"].tolist()\n",
    "    for name in titles:\n",
    "        all_movies.append(name.lower)\n",
    "    for d in directors:\n",
    "        if \",\" in d:\n",
    "            for name in d.split(\",\"):\n",
    "                all_celebrities.append(name.lower().strip())\n",
    "        else:\n",
    "            all_celebrities.append(d.lower())"
   ]
  },
  {
   "cell_type": "code",
   "execution_count": 41,
   "metadata": {},
   "outputs": [],
   "source": [
    "for path in os.listdir(\"dataset/celebrities/\"):\n",
    "    f = pd.read_csv(\"dataset/celebrities/\" + path, encoding='latin-1')\n",
    "    names = f[\"Name\"].tolist()\n",
    "    movies = f[\"Known For\"].tolist()\n",
    "    for name in movies:\n",
    "        all_movies.append(name.lower)\n",
    "    \n",
    "    for d in names:\n",
    "        all_celebrities.append(d.lower())\n",
    " "
   ]
  },
  {
   "cell_type": "code",
   "execution_count": 45,
   "metadata": {},
   "outputs": [
    {
     "data": {
      "text/plain": [
       "2012"
      ]
     },
     "execution_count": 45,
     "metadata": {},
     "output_type": "execute_result"
    }
   ],
   "source": [
    "len(set(all_movies))"
   ]
  },
  {
   "cell_type": "code",
   "execution_count": 55,
   "metadata": {},
   "outputs": [],
   "source": [
    "unique_name = set(all_celebrities)"
   ]
  },
  {
   "cell_type": "code",
   "execution_count": 124,
   "metadata": {},
   "outputs": [
    {
     "data": {
      "text/plain": [
       "'(\\\\bed\\\\b|\\\\bwright\\\\b)*'"
      ]
     },
     "execution_count": 124,
     "metadata": {},
     "output_type": "execute_result"
    }
   ],
   "source": [
    "r\"(\\bed\\b|\\bwright\\b)*\""
   ]
  },
  {
   "cell_type": "code",
   "execution_count": 152,
   "metadata": {},
   "outputs": [],
   "source": [
    "lista = []\n",
    "for name in unique_name:\n",
    "    sub_list = []\n",
    "    for x in name.split(\" \"):\n",
    "        if \".\" not in x:\n",
    "            sub_list.append(x)\n",
    "    lista.append(\"\\\\b\" + \" \".join(sub_list) + \"\\\\b\")"
   ]
  },
  {
   "cell_type": "code",
   "execution_count": 153,
   "metadata": {},
   "outputs": [],
   "source": [
    "reg = \"(\" + \"|\".join(lista) + \")\""
   ]
  },
  {
   "cell_type": "code",
   "execution_count": 154,
   "metadata": {},
   "outputs": [
    {
     "data": {
      "text/plain": [
       "\"(\\\\bkristin scott thomas\\\\b|\\\\bjulie walters\\\\b|\\\\bed begley\\\\b|\\\\bjosh boone\\\\b|\\\\bkristen bell\\\\b|\\\\bmichael mann\\\\b|\\\\bamanda peet\\\\b|\\\\bjean dujardin\\\\b|\\\\bjudy davis\\\\b|\\\\bkevin macdonald\\\\b|\\\\bgloria stuart\\\\b|\\\\beileen heckart\\\\b|\\\\bpeter ustinov\\\\b|\\\\bglenn ficarra\\\\b|\\\\bkeanu reeves\\\\b|\\\\bpeter sarsgaard\\\\b|\\\\bsteve coogan\\\\b|\\\\bmichelle yeoh\\\\b|\\\\bchris tucker\\\\b|\\\\bjack lemmon\\\\b|\\\\bron howard\\\\b|\\\\bthandie newton\\\\b|\\\\bnathan greno\\\\b|\\\\bgrace kelly\\\\b|\\\\bfred newmeyer\\\\b|\\\\bjohn ford\\\\b|\\\\blevent semerci\\\\b|\\\\bjohn reilly\\\\b|\\\\brian johnson\\\\b|\\\\bpatricia clarkson\\\\b|\\\\bdean deblois\\\\b|\\\\bmarco tullio giordana\\\\b|\\\\bruby dee\\\\b|\\\\bantoine fuqua\\\\b|\\\\brussell brand\\\\b|\\\\bandrew davis\\\\b|\\\\bmichael jordan\\\\b|\\\\bchris pratt\\\\b|\\\\blaura linney\\\\b|\\\\bdjimon hounsou\\\\b|\\\\bbennett miller\\\\b|\\\\bhaing ngor\\\\b|\\\\bjohn hillcoat\\\\b|\\\\brussell crowe\\\\b|\\\\bgwyneth paltrow\\\\b|\\\\belvis presley\\\\b|\\\\banna paquin\\\\b|\\\\btaylor kitsch\\\\b|\\\\bjet li\\\\b|\\\\bkatharine hepburn\\\\b|\\\\bmikael håfström\\\\b|\\\\bsarah michelle gellar\\\\b|\\\\bwalter huston\\\\b|\\\\bclyde bruckman\\\\b|\\\\bmickey rourke\\\\b|\\\\bclaire danes\\\\b|\\\\btroy baker\\\\b|\\\\bhenry selick\\\\b|\\\\babigail breslin\\\\b|\\\\badam elliot\\\\b|\\\\bemily browning\\\\b|\\\\bwendy hiller\\\\b|\\\\babrams\\\\b|\\\\beric bana\\\\b|\\\\bfritz lang\\\\b|\\\\bjessica tandy\\\\b|\\\\bmatthew vaughn\\\\b|\\\\bbarry cook\\\\b|\\\\brose byrne\\\\b|\\\\bbonnie hunt\\\\b|\\\\bmark strong\\\\b|\\\\barmin mueller-stahl\\\\b|\\\\bbarbra streisand\\\\b|\\\\brita moreno\\\\b|\\\\byarrow cheney\\\\b|\\\\bimelda staunton\\\\b|\\\\bmichael sheen\\\\b|\\\\banjelica huston\\\\b|\\\\belizabeth olsen\\\\b|\\\\bneil marshall\\\\b|\\\\brod steiger\\\\b|\\\\bchristopher nolan\\\\b|\\\\bjames gunn\\\\b|\\\\bemil jannings\\\\b|\\\\bwalt disney\\\\b|\\\\bdebra winger\\\\b|\\\\btoshirô mifune\\\\b|\\\\bbrendan fraser\\\\b|\\\\bchristopher miller\\\\b|\\\\bpaul satterfield\\\\b|\\\\bjulie christie\\\\b|\\\\bjohn cleese\\\\b|\\\\bmark osborne\\\\b|\\\\bdean stockwell\\\\b|\\\\bluc besson\\\\b|\\\\brakeysh omprakash mehra\\\\b|\\\\bsuraj sharma\\\\b|\\\\bjean-marc vallée\\\\b|\\\\bpeggy ashcroft\\\\b|\\\\bmark ruffalo\\\\b|\\\\bolivia de havilland\\\\b|\\\\brobin williams\\\\b|\\\\bmark herman\\\\b|\\\\bjason statham\\\\b|\\\\bjim sheridan\\\\b|\\\\bryan reynolds\\\\b|\\\\bdean jagger\\\\b|\\\\bjonathan dayton\\\\b|\\\\bkat dennings\\\\b|\\\\belia kazan\\\\b|\\\\bjamie foxx\\\\b|\\\\bnick cassavetes\\\\b|\\\\bjim jarmusch\\\\b|\\\\bbarry levinson\\\\b|\\\\bsamantha morton\\\\b|\\\\bbrit marling\\\\b|\\\\brobert mulligan\\\\b|\\\\bjohn leguizamo\\\\b|\\\\beric bress\\\\b|\\\\bbetty white\\\\b|\\\\bcatherine deneuve\\\\b|\\\\bjamie bell\\\\b|\\\\bjohn travolta\\\\b|\\\\bjosh duhamel\\\\b|\\\\btalia shire\\\\b|\\\\byoshiyuki takei\\\\b|\\\\btim burton\\\\b|\\\\bmike judge\\\\b|\\\\bgeorge chakiris\\\\b|\\\\bmarc forster\\\\b|\\\\borlando bloom\\\\b|\\\\bkiefer sutherland\\\\b|\\\\balan alda\\\\b|\\\\bjames cromwell\\\\b|\\\\bbilly burke\\\\b|\\\\bpenny marshall\\\\b|\\\\bdennis hopper\\\\b|\\\\bdan mazer\\\\b|\\\\bcolin firth\\\\b|\\\\bburt reynolds\\\\b|\\\\bbilly crudup\\\\b|\\\\bgarrett hedlund\\\\b|\\\\bdebra granik\\\\b|\\\\bfaye dunaway\\\\b|\\\\bdavid thewlis\\\\b|\\\\bniels arden oplev\\\\b|\\\\brosario dawson\\\\b|\\\\bmartin landau\\\\b|\\\\bmatt reeves\\\\b|\\\\bpaul scofield\\\\b|\\\\bstephen rea\\\\b|\\\\balan arkin\\\\b|\\\\bvicky jenson\\\\b|\\\\bgemma arterton\\\\b|\\\\bpaul greengrass\\\\b|\\\\bgary ross\\\\b|\\\\bjames woods\\\\b|\\\\bethel barrymore\\\\b|\\\\bisabelle adjani\\\\b|\\\\bwhitney houston\\\\b|\\\\bdrew goddard\\\\b|\\\\bdavid silverman\\\\b|\\\\bjonathan pryce\\\\b|\\\\bjustin simien\\\\b|\\\\bdavid ayer\\\\b|\\\\bcarmen miranda\\\\b|\\\\bgiovanni ribisi\\\\b|\\\\brobin wright\\\\b|\\\\bemily blunt\\\\b|\\\\bgeorge roy hill\\\\b|\\\\blee unkrich\\\\b|\\\\bscott hicks\\\\b|\\\\bsalma hayek\\\\b|\\\\bjustin kurzel\\\\b|\\\\btom hulce\\\\b|\\\\bpeter ramsey\\\\b|\\\\bshane black\\\\b|\\\\bliv ullmann\\\\b|\\\\balicia vikander\\\\b|\\\\bmeg ryan\\\\b|\\\\bwes ball\\\\b|\\\\bjim broadbent\\\\b|\\\\bjamie chung\\\\b|\\\\bjeremy renner\\\\b|\\\\bteresa palmer\\\\b|\\\\bemma roberts\\\\b|\\\\bmiyoshi umeki\\\\b|\\\\bpaul haggis\\\\b|\\\\bernest schoedsack\\\\b|\\\\bryan gosling\\\\b|\\\\broland emmerich\\\\b|\\\\bsean astin\\\\b|\\\\bloretta young\\\\b|\\\\bpaco plaza\\\\b|\\\\bernest borgnine\\\\b|\\\\bfabián bielinsky\\\\b|\\\\bguillermo del toro\\\\b|\\\\bingmar bergman\\\\b|\\\\bfreddie highmore\\\\b|\\\\bjohn goodman\\\\b|\\\\boscar isaac\\\\b|\\\\bheath ledger\\\\b|\\\\bstockard channing\\\\b|\\\\brobin weigert\\\\b|\\\\bwallace beery\\\\b|\\\\bamanda bynes\\\\b|\\\\brichard farnsworth\\\\b|\\\\bwinona ryder\\\\b|\\\\bcam gigandet\\\\b|\\\\bangus maclane\\\\b|\\\\bmandy moore\\\\b|\\\\bcatherine keener\\\\b|\\\\bbruce lee\\\\b|\\\\bjames coburn\\\\b|\\\\bsacha baron cohen\\\\b|\\\\bolivia wilde\\\\b|\\\\bmads mikkelsen\\\\b|\\\\bioan gruffudd\\\\b|\\\\bstellan skarsgård\\\\b|\\\\bpatrick stewart\\\\b|\\\\bdavid cronenberg\\\\b|\\\\bakira kurosawa\\\\b|\\\\bluke wilson\\\\b|\\\\bjoan fontaine\\\\b|\\\\bira sachs\\\\b|\\\\bben lewin\\\\b|\\\\bjesse eisenberg\\\\b|\\\\bdanny mcbride\\\\b|\\\\bteresa wright\\\\b|\\\\bfairuza balk\\\\b|\\\\bkim basinger\\\\b|\\\\brichard jenkins\\\\b|\\\\bdakota fanning\\\\b|\\\\bash brannon\\\\b|\\\\bnoomi rapace\\\\b|\\\\bwilfred jackson\\\\b|\\\\bantonio banderas\\\\b|\\\\bbroderick crawford\\\\b|\\\\bjosé ferrer\\\\b|\\\\bhenry fonda\\\\b|\\\\bleslie nielsen\\\\b|\\\\bolivier nakache\\\\b|\\\\bmia farrow\\\\b|\\\\bmichel hazanavicius\\\\b|\\\\bluise rainer\\\\b|\\\\balexander skarsgård\\\\b|\\\\bisabelle huppert\\\\b|\\\\bjanet mcteer\\\\b|\\\\bjustin long\\\\b|\\\\bmelissa mccarthy\\\\b|\\\\bjames mcavoy\\\\b|\\\\bjames franco\\\\b|\\\\bshari springer berman\\\\b|\\\\bgareth evans\\\\b|\\\\bpeter mullan\\\\b|\\\\beliza dushku\\\\b|\\\\blarry charles\\\\b|\\\\brosalind russell\\\\b|\\\\bclaude rains\\\\b|\\\\balessandro carloni\\\\b|\\\\bjackie chan\\\\b|\\\\bbrenda blethyn\\\\b|\\\\bjoel mccrea\\\\b|\\\\bjake gyllenhaal\\\\b|\\\\bvincent gallo\\\\b|\\\\bdavid hand\\\\b|\\\\bvera farmiga\\\\b|\\\\bjeff bridges\\\\b|\\\\bfranck khalfoun\\\\b|\\\\bmahershala ali\\\\b|\\\\bchris rock\\\\b|\\\\bconrad vernon\\\\b|\\\\bjan de bont\\\\b|\\\\bhumphrey bogart\\\\b|\\\\bjulian schnabel\\\\b|\\\\bpatricia neal\\\\b|\\\\bcloris leachman\\\\b|\\\\bjerry zucker\\\\b|\\\\bbarry pepper\\\\b|\\\\btom tykwer\\\\b|\\\\bandrew lau\\\\b|\\\\bamy ryan\\\\b|\\\\bstuart rosenberg\\\\b|\\\\blena headey\\\\b|\\\\bhugh griffith\\\\b|\\\\ballison janney\\\\b|\\\\bburr steers\\\\b|\\\\bjoel schumacher\\\\b|\\\\bgregory peck\\\\b|\\\\bcolin farrell\\\\b|\\\\bjohn hughes\\\\b|\\\\bgig young\\\\b|\\\\bpeter dinklage\\\\b|\\\\banne hathaway\\\\b|\\\\bval kilmer\\\\b|\\\\bomar sharif\\\\b|\\\\bliam hemsworth\\\\b|\\\\blinda hamilton\\\\b|\\\\bkarl urban\\\\b|\\\\bsergio leone\\\\b|\\\\btim robbins\\\\b|\\\\btom mccarthy\\\\b|\\\\bfredric march\\\\b|\\\\bclaire trevor\\\\b|\\\\bbruce dern\\\\b|\\\\bviggo mortensen\\\\b|\\\\bgeoffrey rush\\\\b|\\\\bzooey deschanel\\\\b|\\\\bjohn turturro\\\\b|\\\\brandy quaid\\\\b|\\\\bneil burger\\\\b|\\\\bcasey affleck\\\\b|\\\\bgus van sant\\\\b|\\\\bwillem dafoe\\\\b|\\\\bben foster\\\\b|\\\\bnatalie portman\\\\b|\\\\bmackye gruber\\\\b|\\\\balejandro iñárritu\\\\b|\\\\bgloria swanson\\\\b|\\\\bcate blanchett\\\\b|\\\\bjohn woo\\\\b|\\\\bbayona\\\\b|\\\\bmira sorvino\\\\b|\\\\bjames wan\\\\b|\\\\bgavin o'connor\\\\b|\\\\bfrances mcdormand\\\\b|\\\\bbrad pitt\\\\b|\\\\bemma watson\\\\b|\\\\banthony perkins\\\\b|\\\\btom wilkinson\\\\b|\\\\bpam grier\\\\b|\\\\bmike myers\\\\b|\\\\bvirginia madsen\\\\b|\\\\bfrank sinatra\\\\b|\\\\bleonardo dicaprio\\\\b|\\\\bmatthew mcconaughey\\\\b|\\\\bdan gilroy\\\\b|\\\\bamy poehler\\\\b|\\\\bterrence howard\\\\b|\\\\bjessica lucas\\\\b|\\\\bshekhar kapur\\\\b|\\\\bpaul walker\\\\b|\\\\bsanjay leela bhansali\\\\b|\\\\bjay roach\\\\b|\\\\bjacques audiard\\\\b|\\\\bjudy garland\\\\b|\\\\bchazz palminteri\\\\b|\\\\bsylvester stallone\\\\b|\\\\bhal holbrook\\\\b|\\\\bmarsha mason\\\\b|\\\\bmichael fassbender\\\\b|\\\\bjames bobin\\\\b|\\\\bgeorge lucas\\\\b|\\\\bminnie driver\\\\b|\\\\bmarcello mastroianni\\\\b|\\\\bmatthew broderick\\\\b|\\\\bdoug liman\\\\b|\\\\bmaureen stapleton\\\\b|\\\\bshia labeouf\\\\b|\\\\balfonso cuarón\\\\b|\\\\bdaniel day-lewis\\\\b|\\\\bhelen mirren\\\\b|\\\\brichard rosson\\\\b|\\\\bquentin tarantino\\\\b|\\\\bmerian cooper\\\\b|\\\\bjean reno\\\\b|\\\\bhee\\\\b|\\\\bsatoshi kon\\\\b|\\\\bkim novak\\\\b|\\\\bbilly zane\\\\b|\\\\bian mckellen\\\\b|\\\\bbob peterson\\\\b|\\\\bjee-woon kim\\\\b|\\\\blewis gilbert\\\\b|\\\\brob minkoff\\\\b|\\\\bdanny devito\\\\b|\\\\bmo'nique\\\\b|\\\\bmarisa tomei\\\\b|\\\\bpaul newman\\\\b|\\\\bmatt dillon\\\\b|\\\\bsally hawkins\\\\b|\\\\bdaryl hannah\\\\b|\\\\bnia long\\\\b|\\\\bpeter weir\\\\b|\\\\bjessie nelson\\\\b|\\\\bmichelle williams\\\\b|\\\\bjennifer connelly\\\\b|\\\\bshah rukh khan\\\\b|\\\\btom hiddleston\\\\b|\\\\bedward norton\\\\b|\\\\breese witherspoon\\\\b|\\\\bpete docter\\\\b|\\\\bmorgan freeman\\\\b|\\\\bmichel gondry\\\\b|\\\\bvivien leigh\\\\b|\\\\bpauline collins\\\\b|\\\\balec baldwin\\\\b|\\\\bmike newell\\\\b|\\\\banthony quinn\\\\b|\\\\bcobie smulders\\\\b|\\\\bhailee steinfeld\\\\b|\\\\bbenh zeitlin\\\\b|\\\\bashton kutcher\\\\b|\\\\bjohn musker\\\\b|\\\\bflorian henckel von donnersmarck\\\\b|\\\\bliam neeson\\\\b|\\\\bolivia thirlby\\\\b|\\\\brichard donner\\\\b|\\\\brashida jones\\\\b|\\\\bjoaquin phoenix\\\\b|\\\\bevan rachel wood\\\\b|\\\\bwilliam powell\\\\b|\\\\bdavid russell\\\\b|\\\\boliver stone\\\\b|\\\\broman polanski\\\\b|\\\\bjuliette binoche\\\\b|\\\\bjean-pierre dardenne\\\\b|\\\\brobert de niro\\\\b|\\\\bgeorge nolfi\\\\b|\\\\bgary cooper\\\\b|\\\\bmatthew warchus\\\\b|\\\\bbilly crystal\\\\b|\\\\bnicholas hoult\\\\b|\\\\bjon chu\\\\b|\\\\bwes anderson\\\\b|\\\\bjean-paul belmondo\\\\b|\\\\bedgar wright\\\\b|\\\\bcliff robertson\\\\b|\\\\bfrank miller\\\\b|\\\\blone scherfig\\\\b|\\\\bnick frost\\\\b|\\\\bmichael ealy\\\\b|\\\\bsidney lumet\\\\b|\\\\bluc dardenne\\\\b|\\\\bhaley joel osment\\\\b|\\\\bkeri russell\\\\b|\\\\bmichael cera\\\\b|\\\\bemilio estevez\\\\b|\\\\bjay baruchel\\\\b|\\\\bsam raimi\\\\b|\\\\bgillian robespierre\\\\b|\\\\brichard eyre\\\\b|\\\\bneeraj pandey\\\\b|\\\\brichard harris\\\\b|\\\\bdavid frankel\\\\b|\\\\brob riggle\\\\b|\\\\bjaco van dormael\\\\b|\\\\bkevin smith\\\\b|\\\\btim roth\\\\b|\\\\bfrancis ford coppola\\\\b|\\\\balex proyas\\\\b|\\\\bpeter lorre\\\\b|\\\\bpatrick swayze\\\\b|\\\\bkeira knightley\\\\b|\\\\bsarah polley\\\\b|\\\\bbrad bird\\\\b|\\\\bwilliam wyler\\\\b|\\\\bkevin spacey\\\\b|\\\\bkrzysztof kieslowski\\\\b|\\\\bjames gandolfini\\\\b|\\\\bdonna reed\\\\b|\\\\brene russo\\\\b|\\\\bjulianne hough\\\\b|\\\\bhelen hayes\\\\b|\\\\bkim hunter\\\\b|\\\\bdennis quaid\\\\b|\\\\bleo mccarey\\\\b|\\\\belizabeth banks\\\\b|\\\\bgary trousdale\\\\b|\\\\bfrank langella\\\\b|\\\\bjennifer love hewitt\\\\b|\\\\bwilliam keighley\\\\b|\\\\bvincent cassel\\\\b|\\\\bbill roberts\\\\b|\\\\bwilliam macy\\\\b|\\\\bethan coen\\\\b|\\\\bpatty jenkins\\\\b|\\\\bchris pine\\\\b|\\\\bkate mara\\\\b|\\\\bguy pearce\\\\b|\\\\btakashi miike\\\\b|\\\\bhiroyuki okiura\\\\b|\\\\bamanda seyfried\\\\b|\\\\bben stiller\\\\b|\\\\bmike nichols\\\\b|\\\\brich moore\\\\b|\\\\bgeena davis\\\\b|\\\\bsean connery\\\\b|\\\\btobey maguire\\\\b|\\\\bcuba gooding\\\\b|\\\\blupita nyong'o\\\\b|\\\\bcary elwes\\\\b|\\\\buma thurman\\\\b|\\\\blaura dern\\\\b|\\\\brob lowe\\\\b|\\\\btaraji henson\\\\b|\\\\brobert duvall\\\\b|\\\\bchristina applegate\\\\b|\\\\bglenn close\\\\b|\\\\béric toledano\\\\b|\\\\bfatih akin\\\\b|\\\\brichard marquand\\\\b|\\\\bmichael bay\\\\b|\\\\bharvey keitel\\\\b|\\\\bmakoto shinkai\\\\b|\\\\bcharlie day\\\\b|\\\\bharold ramis\\\\b|\\\\bjennifer kent\\\\b|\\\\bsteve james\\\\b|\\\\beva mendes\\\\b|\\\\bshirley jones\\\\b|\\\\brichard curtis\\\\b|\\\\bnicolas winding refn\\\\b|\\\\basghar farhadi\\\\b|\\\\bjames garner\\\\b|\\\\btate taylor\\\\b|\\\\bcharles crichton\\\\b|\\\\bkate beckinsale\\\\b|\\\\bian holm\\\\b|\\\\blionel barrymore\\\\b|\\\\bmichelle pfeiffer\\\\b|\\\\bemmanuelle riva\\\\b|\\\\bmary tyler moore\\\\b|\\\\bmegan fox\\\\b|\\\\bjeong-beom lee\\\\b|\\\\bkevin kline\\\\b|\\\\bnicolas cage\\\\b|\\\\balan rickman\\\\b|\\\\bgary gray\\\\b|\\\\bbenicio del toro\\\\b|\\\\bmichael clarke duncan\\\\b|\\\\bdianne wiest\\\\b|\\\\bcharles coburn\\\\b|\\\\bdavid gordon green\\\\b|\\\\bpaul feig\\\\b|\\\\bsteve mcqueen\\\\b|\\\\bmilos forman\\\\b|\\\\btim allen\\\\b|\\\\bjudi dench\\\\b|\\\\bedward james olmos\\\\b|\\\\bkelly asbury\\\\b|\\\\bchris hemsworth\\\\b|\\\\bjane wyman\\\\b|\\\\bsteven soderbergh\\\\b|\\\\bmurnau\\\\b|\\\\byôjirô takita\\\\b|\\\\balfred hitchcock\\\\b|\\\\bdakota johnson\\\\b|\\\\bmartin brest\\\\b|\\\\brachel weisz\\\\b|\\\\bedward robinson\\\\b|\\\\bliv tyler\\\\b|\\\\bmichael shannon\\\\b|\\\\bdebbie reynolds\\\\b|\\\\baudrey hepburn\\\\b|\\\\bray milland\\\\b|\\\\bbryan singer\\\\b|\\\\bjean-louis trintignant\\\\b|\\\\bjeff goldblum\\\\b|\\\\btim curry\\\\b|\\\\bandrew lincoln\\\\b|\\\\bchanning tatum\\\\b|\\\\bvince vaughn\\\\b|\\\\bmark hamill\\\\b|\\\\bstephen sommers\\\\b|\\\\bcarole lombard\\\\b|\\\\balfred molina\\\\b|\\\\bryan phillippe\\\\b|\\\\bgeorge kennedy\\\\b|\\\\bjack albertson\\\\b|\\\\bphil lord\\\\b|\\\\brebecca hall\\\\b|\\\\btéa leoni\\\\b|\\\\bjim handley\\\\b|\\\\blarry morey\\\\b|\\\\bkinji fukasaku\\\\b|\\\\bchristoph waltz\\\\b|\\\\bcher\\\\b|\\\\bethan hawke\\\\b|\\\\bjames marsden\\\\b|\\\\balec guinness\\\\b|\\\\bmichael hall\\\\b|\\\\bteri garr\\\\b|\\\\bjohn crowley\\\\b|\\\\bsusan hayward\\\\b|\\\\bsteven knight\\\\b|\\\\bclaudia cardinale\\\\b|\\\\bkátia lund\\\\b|\\\\bjason schwartzman\\\\b|\\\\bstanley kubrick\\\\b|\\\\bpenélope cruz\\\\b|\\\\blily tomlin\\\\b|\\\\bgreg mottola\\\\b|\\\\btom holland\\\\b|\\\\bjeremiah chechik\\\\b|\\\\brosamund pike\\\\b|\\\\bhayden christensen\\\\b|\\\\bjames mangold\\\\b|\\\\baaron eckhart\\\\b|\\\\bshirley temple\\\\b|\\\\btony gilroy\\\\b|\\\\bsam taylor\\\\b|\\\\bannette bening\\\\b|\\\\bmary pickford\\\\b|\\\\blee marvin\\\\b|\\\\bchristopher walken\\\\b|\\\\brobert benton\\\\b|\\\\beddie murphy\\\\b|\\\\bken watanabe\\\\b|\\\\bsergei eisenstein\\\\b|\\\\bpedro almodóvar\\\\b|\\\\bmila kunis\\\\b|\\\\bmelvyn douglas\\\\b|\\\\bjohn stevenson\\\\b|\\\\bgeorge miller\\\\b|\\\\bana lily amirpour\\\\b|\\\\bjon voight\\\\b|\\\\bnastassja kinski\\\\b|\\\\bmargot kidder\\\\b|\\\\bjacques tourneur\\\\b|\\\\bdarren aronofsky\\\\b|\\\\bwilliam holden\\\\b|\\\\bzoe saldana\\\\b|\\\\bharold russell\\\\b|\\\\bscarlett johansson\\\\b|\\\\bwilliam shatner\\\\b|\\\\bmel brooks\\\\b|\\\\bcurtis hanson\\\\b|\\\\bjosé padilha\\\\b|\\\\bmelanie griffith\\\\b|\\\\bchristine taylor\\\\b|\\\\bscott derrickson\\\\b|\\\\bshin'ichirô watanabe\\\\b|\\\\bfranka potente\\\\b|\\\\bgabourey sidibe\\\\b|\\\\brhys ifans\\\\b|\\\\bphilip seymour hoffman\\\\b|\\\\bjohn krasinski\\\\b|\\\\bselena gomez\\\\b|\\\\bwhoopi goldberg\\\\b|\\\\bevan goldberg\\\\b|\\\\bdudley moore\\\\b|\\\\bsam elliott\\\\b|\\\\bpawel pawlikowski\\\\b|\\\\bjohn mctiernan\\\\b|\\\\bspencer tracy\\\\b|\\\\bpaul weitz\\\\b|\\\\bruth gordon\\\\b|\\\\bjavier bardem\\\\b|\\\\bsean bean\\\\b|\\\\bglenda jackson\\\\b|\\\\bpaul king\\\\b|\\\\bmarilyn monroe\\\\b|\\\\brob marshall\\\\b|\\\\btatum o'neal\\\\b|\\\\bedmond o'brien\\\\b|\\\\banne bancroft\\\\b|\\\\bemma thompson\\\\b|\\\\bbilly bob thornton\\\\b|\\\\bjoseph gordon-levitt\\\\b|\\\\bcharlie hunnam\\\\b|\\\\blenny abrahamson\\\\b|\\\\bbill murray\\\\b|\\\\bsetsuko hara\\\\b|\\\\bwilson yip\\\\b|\\\\bjonathan demme\\\\b|\\\\bmartin balsam\\\\b|\\\\bkristen wiig\\\\b|\\\\bgeorge burns\\\\b|\\\\bjohn madden\\\\b|\\\\btodd field\\\\b|\\\\bmichael douglas\\\\b|\\\\bjessica lange\\\\b|\\\\bthomas vinterberg\\\\b|\\\\bjean seberg\\\\b|\\\\bannasophia robb\\\\b|\\\\bjackie earle haley\\\\b|\\\\bpaul thomas anderson\\\\b|\\\\bjulie andrews\\\\b|\\\\bpierce brosnan\\\\b|\\\\bgraham greene\\\\b|\\\\banna foerster\\\\b|\\\\btopher grace\\\\b|\\\\blaurence olivier\\\\b|\\\\bnikkhil advani\\\\b|\\\\bmaureen o'hara\\\\b|\\\\bmary harron\\\\b|\\\\bgreta gerwig\\\\b|\\\\bdavid zucker\\\\b|\\\\bpeter fonda\\\\b|\\\\bwalter matthau\\\\b|\\\\bjennifer aniston\\\\b|\\\\bstanley tucci\\\\b|\\\\bjennifer jason leigh\\\\b|\\\\bsandra oh\\\\b|\\\\babbie cornish\\\\b|\\\\bkirsten dunst\\\\b|\\\\bgroucho marx\\\\b|\\\\btaron egerton\\\\b|\\\\badrien brody\\\\b|\\\\bwolfgang becker\\\\b|\\\\bbérénice bejo\\\\b|\\\\bvanessa hudgens\\\\b|\\\\bchris renaud\\\\b|\\\\bdaniel brühl\\\\b|\\\\bzoya akhtar\\\\b|\\\\bed harris\\\\b|\\\\bgloria grahame\\\\b|\\\\bwes craven\\\\b|\\\\bjordan peele\\\\b|\\\\brichard grant\\\\b|\\\\bruben östlund\\\\b|\\\\brob zombie\\\\b|\\\\bkristen stewart\\\\b|\\\\bgael garcía bernal\\\\b|\\\\bdavid oyelowo\\\\b|\\\\bdonald sutherland\\\\b|\\\\bnatalie dormer\\\\b|\\\\bchristina ricci\\\\b|\\\\bsofía vergara\\\\b|\\\\bemily watson\\\\b|\\\\bclark gable\\\\b|\\\\bjohnny depp\\\\b|\\\\bcarl theodor dreyer\\\\b|\\\\bcharles ferguson\\\\b|\\\\bsusanne bier\\\\b|\\\\bsophia loren\\\\b|\\\\bnathan lane\\\\b|\\\\bchris cooper\\\\b|\\\\bjames brooks\\\\b|\\\\bgreer garson\\\\b|\\\\bbob hoskins\\\\b|\\\\brinko kikuchi\\\\b|\\\\bmiley cyrus\\\\b|\\\\bgeorge romero\\\\b|\\\\brex harrison\\\\b|\\\\bvittorio de sica\\\\b|\\\\banthony hopkins\\\\b|\\\\bmargot robbie\\\\b|\\\\bmarlon wayans\\\\b|\\\\bterrence malick\\\\b|\\\\brenny harlin\\\\b|\\\\bjennifer garner\\\\b|\\\\bsteven spielberg\\\\b|\\\\blen wiseman\\\\b|\\\\broy scheider\\\\b|\\\\btod browning\\\\b|\\\\bkathryn bigelow\\\\b|\\\\bromain duris\\\\b|\\\\bjessica alba\\\\b|\\\\bjulia louis-dreyfus\\\\b|\\\\bdustin hoffman\\\\b|\\\\bowen wilson\\\\b|\\\\byimou zhang\\\\b|\\\\bandrew niccol\\\\b|\\\\brichard burton\\\\b|\\\\bmike leigh\\\\b|\\\\btommy lee jones\\\\b|\\\\bjohn cazale\\\\b|\\\\bbette midler\\\\b|\\\\bcharlotte rampling\\\\b|\\\\bchris o'donnell\\\\b|\\\\bjean harlow\\\\b|\\\\bboris karloff\\\\b|\\\\blisa kudrow\\\\b|\\\\bsissy spacek\\\\b|\\\\bjena malone\\\\b|\\\\bgabriele muccino\\\\b|\\\\bhelena bonham carter\\\\b|\\\\bkate bosworth\\\\b|\\\\bsam wood\\\\b|\\\\bmalik bendjelloul\\\\b|\\\\bmireille enos\\\\b|\\\\bmax von sydow\\\\b|\\\\bmacaulay culkin\\\\b|\\\\btom cruise\\\\b|\\\\bjohn lee hancock\\\\b|\\\\bbrittany snow\\\\b|\\\\btim miller\\\\b|\\\\bpaul giamatti\\\\b|\\\\bjane darwell\\\\b|\\\\bjohn gielgud\\\\b|\\\\bpaul muni\\\\b|\\\\bpeter cattaneo\\\\b|\\\\bchad stahelski\\\\b|\\\\brobert stromberg\\\\b|\\\\broger allers\\\\b|\\\\brooney mara\\\\b|\\\\btetsuya nakashima\\\\b|\\\\bmike johnson\\\\b|\\\\bpaul dano\\\\b|\\\\bzack snyder\\\\b|\\\\bmatt damon\\\\b|\\\\bashley judd\\\\b|\\\\bjames mason\\\\b|\\\\bklaus kinski\\\\b|\\\\bmiranda richardson\\\\b|\\\\bfamke janssen\\\\b|\\\\bdwayne johnson\\\\b|\\\\bbrenda chapman\\\\b|\\\\bchristopher plummer\\\\b|\\\\bcameron crowe\\\\b|\\\\bgareth edwards\\\\b|\\\\bjennifer lawrence\\\\b|\\\\bjennifer yuh nelson\\\\b|\\\\bpaul anderson\\\\b|\\\\bjerome robbins\\\\b|\\\\belisabeth shue\\\\b|\\\\bchris butler\\\\b|\\\\bjane seymour\\\\b|\\\\bseth macfarlane\\\\b|\\\\bcarrie-anne moss\\\\b|\\\\bgena rowlands\\\\b|\\\\brichard gere\\\\b|\\\\bice cube\\\\b|\\\\btom hardy\\\\b|\\\\bjohn cusack\\\\b|\\\\borson welles\\\\b|\\\\bmindy kaling\\\\b|\\\\bjulia roberts\\\\b|\\\\bkurt wimmer\\\\b|\\\\bfrank pavich\\\\b|\\\\bjohn michael mcdonagh\\\\b|\\\\badam driver\\\\b|\\\\bsam fell\\\\b|\\\\bmark wahlberg\\\\b|\\\\boliver hirschbiegel\\\\b|\\\\bchristian carion\\\\b|\\\\bdiane lane\\\\b|\\\\bemma stone\\\\b|\\\\bhilary duff\\\\b|\\\\bsimon pegg\\\\b|\\\\bjudd apatow\\\\b|\\\\baudrey tautou\\\\b|\\\\bki-duk kim\\\\b|\\\\bviola davis\\\\b|\\\\bkate capshaw\\\\b|\\\\bmel blanc\\\\b|\\\\badrianne palicki\\\\b|\\\\bsteve box\\\\b|\\\\bchris williams\\\\b|\\\\bdeborah kerr\\\\b|\\\\bmercedes ruehl\\\\b|\\\\bshelley winters\\\\b|\\\\bginger rogers\\\\b|\\\\bdavid yates\\\\b|\\\\bbrendan gleeson\\\\b|\\\\bdon siegel\\\\b|\\\\bmichael curtiz\\\\b|\\\\balexandra daddario\\\\b|\\\\bellen burstyn\\\\b|\\\\bjessica biel\\\\b|\\\\bwoody allen\\\\b|\\\\bseth rogen\\\\b|\\\\bjames algar\\\\b|\\\\broger donaldson\\\\b|\\\\bava duvernay\\\\b|\\\\brachel mcadams\\\\b|\\\\bpaul verhoeven\\\\b|\\\\bpaul lukas\\\\b|\\\\bbill pullman\\\\b|\\\\bmarie dressler\\\\b|\\\\bsean penn\\\\b|\\\\bchris weitz\\\\b|\\\\brupert wyatt\\\\b|\\\\bjamie lee curtis\\\\b|\\\\bgreg kinnear\\\\b|\\\\bgoldie hawn\\\\b|\\\\bmartin scorsese\\\\b|\\\\bjames whale\\\\b|\\\\bsydney pollack\\\\b|\\\\btom courtenay\\\\b|\\\\bceleste holm\\\\b|\\\\bstephen daldry\\\\b|\\\\brufus sewell\\\\b|\\\\bshirley maclaine\\\\b|\\\\bwalter brennan\\\\b|\\\\bhugo weaving\\\\b|\\\\bmelissa leo\\\\b|\\\\bcarrie fisher\\\\b|\\\\bjohn hurt\\\\b|\\\\berrol flynn\\\\b|\\\\bjohn rhys-davies\\\\b|\\\\bjaume balagueró\\\\b|\\\\bjeremy irons\\\\b|\\\\bjo van fleet\\\\b|\\\\bed helms\\\\b|\\\\bmike figgis\\\\b|\\\\blake bell\\\\b|\\\\bmichelle rodriguez\\\\b|\\\\bsteve carell\\\\b|\\\\bpiper perabo\\\\b|\\\\brobert shaw\\\\b|\\\\bezra miller\\\\b|\\\\bmel gibson\\\\b|\\\\bbrian de palma\\\\b|\\\\bjohn requa\\\\b|\\\\bgeraldine page\\\\b|\\\\bsandy dennis\\\\b|\\\\belijah wood\\\\b|\\\\bart carney\\\\b|\\\\bsidney poitier\\\\b|\\\\bjosh brolin\\\\b|\\\\bmurray abraham\\\\b|\\\\bgal gadot\\\\b|\\\\bseth green\\\\b|\\\\bjason bateman\\\\b|\\\\bparker posey\\\\b|\\\\bdorothy malone\\\\b|\\\\bkevin james\\\\b|\\\\bmohanlal\\\\b|\\\\blouise fletcher\\\\b|\\\\bangela lansbury\\\\b|\\\\bmia wasikowska\\\\b|\\\\bgeorge cukor\\\\b|\\\\banders thomas jensen\\\\b|\\\\bmae west\\\\b|\\\\bjean-claude van damme\\\\b|\\\\bhayao miyazaki\\\\b|\\\\bpatricia arquette\\\\b|\\\\bandy samberg\\\\b|\\\\btina fey\\\\b|\\\\brichard dreyfuss\\\\b|\\\\blogan lerman\\\\b|\\\\bjulie delpy\\\\b|\\\\bjoe wright\\\\b|\\\\bmike thurmeier\\\\b|\\\\bnorman ferguson\\\\b|\\\\byasujirô ozu\\\\b|\\\\btimothy olyphant\\\\b|\\\\bcharles bronson\\\\b|\\\\bedmund gwenn\\\\b|\\\\bjoe russo\\\\b|\\\\bjohn carpenter\\\\b|\\\\balejandro amenábar\\\\b|\\\\bangelina jolie\\\\b|\\\\balexander payne\\\\b|\\\\bgene hackman\\\\b|\\\\bbarry sonnenfeld\\\\b|\\\\bburt lancaster\\\\b|\\\\bted kotcheff\\\\b|\\\\bliev schreiber\\\\b|\\\\bandrew garfield\\\\b|\\\\bmontgomery clift\\\\b|\\\\bbuster keaton\\\\b|\\\\bsam rockwell\\\\b|\\\\bguy hamilton\\\\b|\\\\bdaniel craig\\\\b|\\\\bisla fisher\\\\b|\\\\bbette davis\\\\b|\\\\bmaggie gyllenhaal\\\\b|\\\\bhelen hunt\\\\b|\\\\bjanet gaynor\\\\b|\\\\bcarol reed\\\\b|\\\\bshûsuke kaneko\\\\b|\\\\blasse hallström\\\\b|\\\\bclive owen\\\\b|\\\\bjoseph cotten\\\\b|\\\\bcraig robinson\\\\b|\\\\bjoe pesci\\\\b|\\\\bsally field\\\\b|\\\\bshohreh aghdashloo\\\\b|\\\\btom ford\\\\b|\\\\beva green\\\\b|\\\\bemmy rossum\\\\b|\\\\bjeanne moreau\\\\b|\\\\bjerry lewis\\\\b|\\\\bperce pearce\\\\b|\\\\bjohn carney\\\\b|\\\\bpatrick wilson\\\\b|\\\\bned beatty\\\\b|\\\\bjosh hartnett\\\\b|\\\\bforest whitaker\\\\b|\\\\blinda fiorentino\\\\b|\\\\bbyron howard\\\\b|\\\\bcharlton heston\\\\b|\\\\boren peli\\\\b|\\\\balbert finney\\\\b|\\\\bjames mcteigue\\\\b|\\\\bjennifer lee\\\\b|\\\\bsam mendes\\\\b|\\\\bchris buck\\\\b|\\\\bjames spader\\\\b|\\\\bcristian mungiu\\\\b|\\\\balice eve\\\\b|\\\\brichard linklater\\\\b|\\\\bmary astor\\\\b|\\\\bdavid spade\\\\b|\\\\briver phoenix\\\\b|\\\\bwilliam hurt\\\\b|\\\\bnicholas ray\\\\b|\\\\badam mckay\\\\b|\\\\bsaoirse ronan\\\\b|\\\\bjulia stiles\\\\b|\\\\bmilla jovovich\\\\b|\\\\brobert rodriguez\\\\b|\\\\bregina king\\\\b|\\\\bkirk douglas\\\\b|\\\\bmichael rooker\\\\b|\\\\bkatherine heigl\\\\b|\\\\bamole gupte\\\\b|\\\\bjason segel\\\\b|\\\\bmichael keaton\\\\b|\\\\bthomas haden church\\\\b|\\\\bthomas mitchell\\\\b|\\\\bnicholas stoller\\\\b|\\\\bshane meadows\\\\b|\\\\bsally kirkland\\\\b|\\\\bcary grant\\\\b|\\\\brajkumar hirani\\\\b|\\\\bjames marsh\\\\b|\\\\brobert redford\\\\b|\\\\bsamuel jackson\\\\b|\\\\bgeorge sanders\\\\b|\\\\bbill paxton\\\\b|\\\\bjoss whedon\\\\b|\\\\bdave green\\\\b|\\\\bwill smith\\\\b|\\\\bpaul rudd\\\\b|\\\\brobert mitchum\\\\b|\\\\bangela bassett\\\\b|\\\\bcedric nicolas-troyan\\\\b|\\\\bellen degeneres\\\\b|\\\\brobert pulcini\\\\b|\\\\bben sharpsteen\\\\b|\\\\bwoody harrelson\\\\b|\\\\bdemi moore\\\\b|\\\\bpeter jackson\\\\b|\\\\bpiper laurie\\\\b|\\\\bclyde geronimi\\\\b|\\\\bmary steenburgen\\\\b|\\\\banthony mackie\\\\b|\\\\btony kaye\\\\b|\\\\bbarry jenkins\\\\b|\\\\bandrew adamson\\\\b|\\\\bwesley snipes\\\\b|\\\\bkirk wise\\\\b|\\\\bpaula patton\\\\b|\\\\bliza minnelli\\\\b|\\\\blucy liu\\\\b|\\\\bpatty duke\\\\b|\\\\bdick van dyke\\\\b|\\\\bpierre coffin\\\\b|\\\\bjae-young kwak\\\\b|\\\\bjoan allen\\\\b|\\\\bchristopher lloyd\\\\b|\\\\bdziga vertov\\\\b|\\\\bjoseph schildkraut\\\\b|\\\\bstephen chbosky\\\\b|\\\\banurag basu\\\\b|\\\\byôji yamada\\\\b|\\\\banthony minghella\\\\b|\\\\bgillian anderson\\\\b|\\\\bshôgo furuya\\\\b|\\\\bdiane keaton\\\\b|\\\\bduncan jones\\\\b|\\\\blouis gossett\\\\b|\\\\bguy ritchie\\\\b|\\\\bneve campbell\\\\b|\\\\bsam waterston\\\\b|\\\\brandal kleiser\\\\b|\\\\bray liotta\\\\b|\\\\bkate winslet\\\\b|\\\\bhugh jackman\\\\b|\\\\bdavid mackenzie\\\\b|\\\\bjill clayburgh\\\\b|\\\\bjohn landis\\\\b|\\\\bmiles teller\\\\b|\\\\bsteve purcell\\\\b|\\\\beduardo sánchez\\\\b|\\\\bhilary swank\\\\b|\\\\bkerry washington\\\\b|\\\\bbrian cox\\\\b|\\\\bkevin bacon\\\\b|\\\\bbruno ganz\\\\b|\\\\btoni collette\\\\b|\\\\bben kingsley\\\\b|\\\\brobert zemeckis\\\\b|\\\\bsteve martin\\\\b|\\\\bbill hader\\\\b|\\\\bfernando meirelles\\\\b|\\\\brita hayworth\\\\b|\\\\bsimmons\\\\b|\\\\birvin kershner\\\\b|\\\\bgabor csupo\\\\b|\\\\bmarjane satrapi\\\\b|\\\\brachel griffiths\\\\b|\\\\bjohn houseman\\\\b|\\\\bjared leto\\\\b|\\\\bkar-wai wong\\\\b|\\\\bjason sudeikis\\\\b|\\\\bchloë sevigny\\\\b|\\\\brichard kelly\\\\b|\\\\bcatherine zeta-jones\\\\b|\\\\blynne ramsay\\\\b|\\\\bjim caviezel\\\\b|\\\\brobert wise\\\\b|\\\\bkenneth branagh\\\\b|\\\\bcatalina sandino moreno\\\\b|\\\\bjustin lin\\\\b|\\\\bandy garcia\\\\b|\\\\bmichael moore\\\\b|\\\\blewis milestone\\\\b|\\\\bmaggie grace\\\\b|\\\\bben affleck\\\\b|\\\\brobert schwentke\\\\b|\\\\bmary mcdonnell\\\\b|\\\\bmaria falconetti\\\\b|\\\\bfernanda montenegro\\\\b|\\\\bjohn wayne\\\\b|\\\\beli roth\\\\b|\\\\bmichael fox\\\\b|\\\\bsigourney weaver\\\\b|\\\\btodd phillips\\\\b|\\\\bpierre morel\\\\b|\\\\banurag kashyap\\\\b|\\\\bbenedict cumberbatch\\\\b|\\\\bmark rylance\\\\b|\\\\banna magnani\\\\b|\\\\blily collins\\\\b|\\\\bjeffrey wright\\\\b|\\\\bneil patrick harris\\\\b|\\\\blauren bacall\\\\b|\\\\bzach galifianakis\\\\b|\\\\bcharles laughton\\\\b|\\\\bchris evans\\\\b|\\\\balan mak\\\\b|\\\\bjacki weaver\\\\b|\\\\bjean arthur\\\\b|\\\\bpriyanka chopra\\\\b|\\\\bbjörk\\\\b|\\\\bevangeline lilly\\\\b|\\\\btheodore melfi\\\\b|\\\\bgeorge scott\\\\b|\\\\bjan pinkava\\\\b|\\\\bred buttons\\\\b|\\\\bgene wilder\\\\b|\\\\bhal ashby\\\\b|\\\\bchris noonan\\\\b|\\\\bgiuseppe tornatore\\\\b|\\\\bida lupino\\\\b|\\\\bchristian bale\\\\b|\\\\bbruce davison\\\\b|\\\\bjonathan levine\\\\b|\\\\bthora birch\\\\b|\\\\bkevin costner\\\\b|\\\\blisa cholodenko\\\\b|\\\\bolivia colman\\\\b|\\\\bnorma shearer\\\\b|\\\\bmarion davies\\\\b|\\\\bnight shyamalan\\\\b|\\\\bhugh grant\\\\b|\\\\bjoey king\\\\b|\\\\bsusan sarandon\\\\b|\\\\bjohn malkovich\\\\b|\\\\bmcg\\\\b|\\\\bbrett ratner\\\\b|\\\\bvikramaditya motwane\\\\b|\\\\bmichelle trachtenberg\\\\b|\\\\bjared bush\\\\b|\\\\boctavia spencer\\\\b|\\\\bjames stewart\\\\b|\\\\btobe hooper\\\\b|\\\\bchris sanders\\\\b|\\\\bang lee\\\\b|\\\\bmichael haneke\\\\b|\\\\bshirley booth\\\\b|\\\\brobert donat\\\\b|\\\\bgérard depardieu\\\\b|\\\\bwill ferrell\\\\b|\\\\bjean-luc godard\\\\b|\\\\blee cobb\\\\b|\\\\btakashi shimura\\\\b|\\\\beddie redmayne\\\\b|\\\\blukas moodysson\\\\b|\\\\blana wachowski\\\\b|\\\\bkathleen turner\\\\b|\\\\bjason robards\\\\b|\\\\bjada pinkett smith\\\\b|\\\\bjohn candy\\\\b|\\\\bclint eastwood\\\\b|\\\\bcourteney cox\\\\b|\\\\bisao takahata\\\\b|\\\\bjack palance\\\\b|\\\\bfederico fellini\\\\b|\\\\banne baxter\\\\b|\\\\bmichelle monaghan\\\\b|\\\\bdonald crisp\\\\b|\\\\bneill blomkamp\\\\b|\\\\bgary oldman\\\\b|\\\\bjanet leigh\\\\b|\\\\bcameron diaz\\\\b|\\\\bjuliette lewis\\\\b|\\\\bnatalie wood\\\\b|\\\\bdaniel myrick\\\\b|\\\\banna kendrick\\\\b|\\\\bbarbara stanwyck\\\\b|\\\\bjack black\\\\b|\\\\bchuck norris\\\\b|\\\\btyrese gibson\\\\b|\\\\baaron paul\\\\b|\\\\bal pacino\\\\b|\\\\bchadwick boseman\\\\b|\\\\bpaddy considine\\\\b|\\\\bvictor mclaglen\\\\b|\\\\bcharles chaplin\\\\b|\\\\bnicholas meyer\\\\b|\\\\bjames caan\\\\b|\\\\blilly wachowski\\\\b|\\\\bsandra bullock\\\\b|\\\\badriana barraza\\\\b|\\\\bbabak najafi\\\\b|\\\\bdamien chazelle\\\\b|\\\\bblake lively\\\\b|\\\\brobert altman\\\\b|\\\\bmarlee matlin\\\\b|\\\\btom hanks\\\\b|\\\\blinda hunt\\\\b|\\\\bjoe ranft\\\\b|\\\\blucille ball\\\\b|\\\\bmaria bello\\\\b|\\\\bkate hudson\\\\b|\\\\bhalle berry\\\\b|\\\\bbilal lashari\\\\b|\\\\bjodie foster\\\\b|\\\\bjude law\\\\b|\\\\bnaomi watts\\\\b|\\\\blee daniels\\\\b|\\\\bnigel hawthorne\\\\b|\\\\baaron taylor-johnson\\\\b|\\\\baamir khan\\\\b|\\\\bfreida pinto\\\\b|\\\\bfranklin schaffner\\\\b|\\\\bjohn patrick shanley\\\\b|\\\\berich von stroheim\\\\b|\\\\bgeorge clooney\\\\b|\\\\bdanny glover\\\\b|\\\\blillian gish\\\\b|\\\\bnick nolte\\\\b|\\\\bpeter finch\\\\b|\\\\bolympia dukakis\\\\b|\\\\bclaudette colbert\\\\b|\\\\bfrancis lawrence\\\\b|\\\\bfelicity huffman\\\\b|\\\\bsamuel armstrong\\\\b|\\\\bgerard butler\\\\b|\\\\bruben fleischer\\\\b|\\\\brutger hauer\\\\b|\\\\bgreta garbo\\\\b|\\\\bmichael caine\\\\b|\\\\bhugh laurie\\\\b|\\\\bjennifer jones\\\\b|\\\\bemilia clarke\\\\b|\\\\bwill gluck\\\\b|\\\\bmartin mcdonagh\\\\b|\\\\bsimone signoret\\\\b|\\\\bjennifer coolidge\\\\b|\\\\bjohn mills\\\\b|\\\\bterence young\\\\b|\\\\bjon heder\\\\b|\\\\bcarey mulligan\\\\b|\\\\balbert brooks\\\\b|\\\\bmarlon brando\\\\b|\\\\bsophie okonedo\\\\b|\\\\bjane fonda\\\\b|\\\\bjon hamm\\\\b|\\\\bsarah jessica parker\\\\b|\\\\bmamoru hosoda\\\\b|\\\\blars von trier\\\\b|\\\\bleslie mann\\\\b|\\\\bjoan crawford\\\\b|\\\\bdanny aiello\\\\b|\\\\bmorten tyldum\\\\b|\\\\bburl ives\\\\b|\\\\badam sandler\\\\b|\\\\bdon cheadle\\\\b|\\\\bhattie mcdaniel\\\\b|\\\\bmarcia gay harden\\\\b|\\\\bjoel coen\\\\b|\\\\bclaire foy\\\\b|\\\\bmartin campbell\\\\b|\\\\blindsay lohan\\\\b|\\\\bmichael lerner\\\\b|\\\\bfrank darabont\\\\b|\\\\btensai okamura\\\\b|\\\\bnorman reedus\\\\b|\\\\basif kapadia\\\\b|\\\\bdavid fincher\\\\b|\\\\btrey parker\\\\b|\\\\bstephen norrington\\\\b|\\\\bdon hall\\\\b|\\\\beva marie saint\\\\b|\\\\bdavid lean\\\\b|\\\\bashutosh gowariker\\\\b|\\\\bgale sondergaard\\\\b|\\\\belisabeth moss\\\\b|\\\\btom hooper\\\\b|\\\\bwarner baxter\\\\b|\\\\bmaya rudolph\\\\b|\\\\bjohn lasseter\\\\b|\\\\bziyi zhang\\\\b|\\\\bchristopher guest\\\\b|\\\\bmarlene dietrich\\\\b|\\\\bkathy bates\\\\b|\\\\bbeatrice straight\\\\b|\\\\bbryan cranston\\\\b|\\\\bhong-jin na\\\\b|\\\\brobert downey\\\\b|\\\\bkeisha castle-hughes\\\\b|\\\\balicia silverstone\\\\b|\\\\bwarren beatty\\\\b|\\\\bkaley cuoco\\\\b|\\\\birrfan khan\\\\b|\\\\btimothy hutton\\\\b|\\\\bray winstone\\\\b|\\\\banna faris\\\\b|\\\\bkimberly peirce\\\\b|\\\\bshimit amin\\\\b|\\\\btom mcgrath\\\\b|\\\\brob schneider\\\\b|\\\\bjack nicholson\\\\b|\\\\bjeff daniels\\\\b|\\\\bellen page\\\\b|\\\\bdenzel washington\\\\b|\\\\blili taylor\\\\b|\\\\bryan fleck\\\\b|\\\\brenée zellweger\\\\b|\\\\bleighton meester\\\\b|\\\\bdavid leitch\\\\b|\\\\bcraig nelson\\\\b|\\\\bjoanne woodward\\\\b|\\\\bsujoy ghosh\\\\b|\\\\bjeremy saulnier\\\\b|\\\\bcharlie sheen\\\\b|\\\\bdanny boyle\\\\b|\\\\bgore verbinski\\\\b|\\\\bgene kelly\\\\b|\\\\bterry jones\\\\b|\\\\brobert forster\\\\b|\\\\btilda swinton\\\\b|\\\\bsue lyon\\\\b|\\\\bvalerie faris\\\\b|\\\\bsam worthington\\\\b|\\\\bbrie larson\\\\b|\\\\bray stevenson\\\\b|\\\\btony scott\\\\b|\\\\bdoris day\\\\b|\\\\bmary elizabeth winstead\\\\b|\\\\bsylvain chomet\\\\b|\\\\bjessica chastain\\\\b|\\\\bnick park\\\\b|\\\\bchiwetel ejiofor\\\\b|\\\\bcharlize theron\\\\b|\\\\bloveleen tandan\\\\b|\\\\bscott cooper\\\\b|\\\\bchloë grace moretz\\\\b|\\\\bron clements\\\\b|\\\\bspike lee\\\\b|\\\\bchristopher lee\\\\b|\\\\bvan heflin\\\\b|\\\\brob reiner\\\\b|\\\\bmalcolm mcdowell\\\\b|\\\\btyler perry\\\\b|\\\\bbrenda fricker\\\\b|\\\\byul brynner\\\\b|\\\\bjuan josé campanella\\\\b|\\\\bjune squibb\\\\b|\\\\bestelle parsons\\\\b|\\\\bléa seydoux\\\\b|\\\\bstephen frears\\\\b|\\\\blee grant\\\\b|\\\\bbong joon ho\\\\b|\\\\bsteve buscemi\\\\b|\\\\bjames dean\\\\b|\\\\bwolfgang petersen\\\\b|\\\\bjames cameron\\\\b|\\\\bava gardner\\\\b|\\\\bhamilton luske\\\\b|\\\\bbrad anderson\\\\b|\\\\bivan reitman\\\\b|\\\\bandrea riseborough\\\\b|\\\\btaylor hackford\\\\b|\\\\bsung kang\\\\b|\\\\bdenis villeneuve\\\\b|\\\\bvictor fleming\\\\b|\\\\bfarhan akhtar\\\\b|\\\\banthony russo\\\\b|\\\\bkatie holmes\\\\b|\\\\bbing crosby\\\\b|\\\\bjim carrey\\\\b|\\\\barnold schwarzenegger\\\\b|\\\\bhenry cavill\\\\b|\\\\bgary busey\\\\b|\\\\btomas alfredson\\\\b|\\\\bfrank capra\\\\b|\\\\bchris wedge\\\\b|\\\\bpeter sellers\\\\b|\\\\blaura poitras\\\\b|\\\\bpaul mcguigan\\\\b|\\\\bspike jonze\\\\b|\\\\ballen coulter\\\\b|\\\\bvincent paronnaud\\\\b|\\\\bdrew barrymore\\\\b|\\\\bmarion cotillard\\\\b|\\\\blesley manville\\\\b|\\\\bjonathan rhys meyers\\\\b|\\\\bmartin sheen\\\\b|\\\\balexis thorpe\\\\b|\\\\bmélanie laurent\\\\b|\\\\bvanessa redgrave\\\\b|\\\\bchristopher reeve\\\\b|\\\\bkurt russell\\\\b|\\\\bmolly ringwald\\\\b|\\\\bjennifer lopez\\\\b|\\\\bharrison ford\\\\b|\\\\bdavid lynch\\\\b|\\\\bandrew stanton\\\\b|\\\\bchris columbus\\\\b|\\\\bewan mcgregor\\\\b|\\\\bdanis tanovic\\\\b|\\\\brichard attenborough\\\\b|\\\\bjosh trank\\\\b|\\\\bcarlos saldanha\\\\b|\\\\bjudy holliday\\\\b|\\\\bterry gilliam\\\\b|\\\\bjohn hawkes\\\\b|\\\\bsarah smith\\\\b|\\\\bfred astaire\\\\b|\\\\bstanley donen\\\\b|\\\\bdanny leiner\\\\b|\\\\bjohn avildsen\\\\b|\\\\bwilliam cottrell\\\\b|\\\\bholly hunter\\\\b|\\\\bpaul bettany\\\\b|\\\\bjean-pierre jeunet\\\\b|\\\\braquel welch\\\\b|\\\\belizabeth taylor\\\\b|\\\\bmeryl streep\\\\b|\\\\bjonathan glazer\\\\b|\\\\bfelicity jones\\\\b|\\\\bsofia coppola\\\\b|\\\\bjennifer hudson\\\\b|\\\\btarsem singh\\\\b|\\\\brobert wiene\\\\b|\\\\bjim abrahams\\\\b|\\\\bgary sinise\\\\b|\\\\bkirk jones\\\\b|\\\\bhoward hawks\\\\b|\\\\bamber heard\\\\b|\\\\bbeyoncé\\\\b|\\\\bmichael cimino\\\\b|\\\\btim story\\\\b|\\\\bjonah hill\\\\b|\\\\bbarry fitzgerald\\\\b|\\\\bcillian murphy\\\\b|\\\\bbruce willis\\\\b|\\\\bolivia newton-john\\\\b|\\\\bford beebe\\\\b|\\\\bbradley cooper\\\\b|\\\\banton corbijn\\\\b|\\\\byun-fat chow\\\\b|\\\\bmaximilian schell\\\\b|\\\\bnicole kidman\\\\b|\\\\bingrid bergman\\\\b|\\\\bbenjamin bratt\\\\b|\\\\bralph fiennes\\\\b|\\\\bmark andrews\\\\b|\\\\bandy serkis\\\\b|\\\\bmyrna loy\\\\b|\\\\bpete postlethwaite\\\\b|\\\\bcommon\\\\b|\\\\bvin diesel\\\\b|\\\\bdan aykroyd\\\\b|\\\\bjason moore\\\\b|\\\\bjames cagney\\\\b|\\\\bjulianne moore\\\\b|\\\\bkathleen quinlan\\\\b|\\\\bridley scott\\\\b|\\\\bpeter o'toole\\\\b|\\\\bmin-sik choi\\\\b|\\\\bdavid strathairn\\\\b|\\\\bidris elba\\\\b|\\\\bandrey zvyagintsev\\\\b|\\\\bjon favreau\\\\b|\\\\bshailene woodley\\\\b|\\\\bchandor\\\\b|\\\\brebel wilson\\\\b|\\\\broberto benigni\\\\b|\\\\blynn redgrave\\\\b|\\\\bsharon stone\\\\b|\\\\bronald colman\\\\b|\\\\bmaggie smith\\\\b|\\\\brobert pattinson\\\\b|\\\\bmarc webb\\\\b|\\\\blance henriksen\\\\b|\\\\bmercedes mccambridge\\\\b|\\\\bjane alexander\\\\b|\\\\bdon ameche\\\\b|\\\\bjohn barrymore\\\\b|\\\\btom conti\\\\b|\\\\bjames wong\\\\b|\\\\bcarol burnett\\\\b|\\\\bdavid niven\\\\b|\\\\bbernie mac\\\\b|\\\\bbilly wilder\\\\b|\\\\brichard schenkman\\\\b|\\\\blaurence fishburne\\\\b|\\\\bwerner herzog\\\\b|\\\\bamy adams\\\\b|\\\\bdave franco\\\\b|\\\\bginnifer goodwin\\\\b|\\\\bmartin lawrence\\\\b|\\\\bjason reitman\\\\b|\\\\bsophie marceau\\\\b|\\\\bedward zwick\\\\b|\\\\bchan-wook park\\\\b|\\\\bjosh gad\\\\b|\\\\bbaz luhrmann\\\\b|\\\\bkevin hart\\\\b|\\\\bjanuary jones\\\\b|\\\\bben johnson\\\\b|\\\\bscott kalvert\\\\b|\\\\bwilliam friedkin\\\\b|\\\\bjack davenport\\\\b|\\\\bqueen latifah\\\\b|\\\\bdaniel radcliffe\\\\b)\""
      ]
     },
     "execution_count": 154,
     "metadata": {},
     "output_type": "execute_result"
    }
   ],
   "source": [
    "reg"
   ]
  },
  {
   "cell_type": "code",
   "execution_count": 155,
   "metadata": {},
   "outputs": [],
   "source": [
    "a = \"the film directed by joe wright\""
   ]
  },
  {
   "cell_type": "code",
   "execution_count": 156,
   "metadata": {},
   "outputs": [
    {
     "data": {
      "text/plain": [
       "21"
      ]
     },
     "execution_count": 156,
     "metadata": {},
     "output_type": "execute_result"
    }
   ],
   "source": [
    "a.find('joe')"
   ]
  },
  {
   "cell_type": "code",
   "execution_count": 157,
   "metadata": {},
   "outputs": [
    {
     "name": "stdout",
     "output_type": "stream",
     "text": [
      "Substring 'for ' found at index: 21\n"
     ]
    }
   ],
   "source": [
    "result = a.find('joe') \n",
    "print (\"Substring 'for ' found at index:\", result )"
   ]
  },
  {
   "cell_type": "code",
   "execution_count": 149,
   "metadata": {},
   "outputs": [],
   "source": [
    "b = a\n",
    "for name in lista:\n",
    "    b = b.replace(name, \"person.name\")"
   ]
  },
  {
   "cell_type": "code",
   "execution_count": 160,
   "metadata": {},
   "outputs": [
    {
     "data": {
      "text/plain": [
       "'the film directed by person.name and person.name'"
      ]
     },
     "execution_count": 160,
     "metadata": {},
     "output_type": "execute_result"
    }
   ],
   "source": [
    "a = \"the film directed by ernest schoedsack and charlie sheen\"\n",
    "re.sub(r\"\"+reg, \"person.name\", a)"
   ]
  },
  {
   "cell_type": "code",
   "execution_count": 161,
   "metadata": {},
   "outputs": [
    {
     "ename": "ValueError",
     "evalue": "'per' is not in list",
     "output_type": "error",
     "traceback": [
      "\u001b[0;31m---------------------------------------------------------------------------\u001b[0m",
      "\u001b[0;31mValueError\u001b[0m                                Traceback (most recent call last)",
      "\u001b[0;32m<ipython-input-161-bba507ebbde5>\u001b[0m in \u001b[0;36m<module>\u001b[0;34m\u001b[0m\n\u001b[0;32m----> 1\u001b[0;31m \u001b[0mlista\u001b[0m\u001b[0;34m.\u001b[0m\u001b[0mindex\u001b[0m\u001b[0;34m(\u001b[0m\u001b[0;34m\"per\"\u001b[0m\u001b[0;34m)\u001b[0m\u001b[0;34m\u001b[0m\u001b[0;34m\u001b[0m\u001b[0m\n\u001b[0m",
      "\u001b[0;31mValueError\u001b[0m: 'per' is not in list"
     ]
    }
   ],
   "source": [
    "lista.index(\"per\")"
   ]
  },
  {
   "cell_type": "code",
   "execution_count": 48,
   "metadata": {},
   "outputs": [],
   "source": [
    "file = open(\"scores/1/1/katz_result.txt\")\n",
    "lines = file.readlines()\n",
    "header = lines[0] \n",
    "overall = lines[1]\n",
    "common_line = lines[-1]"
   ]
  },
  {
   "cell_type": "code",
   "execution_count": 39,
   "metadata": {},
   "outputs": [
    {
     "data": {
      "text/plain": [
       "'48.81'"
      ]
     },
     "execution_count": 39,
     "metadata": {},
     "output_type": "execute_result"
    }
   ],
   "source": [
    "overall.split(\";\")[-1].strip().split(\" \")[-1]"
   ]
  },
  {
   "cell_type": "code",
   "execution_count": 40,
   "metadata": {},
   "outputs": [
    {
     "data": {
      "text/plain": [
       "'      rating.name: precision:  84.13%; recall:  86.89%; FB1:  85.48  63\\n'"
      ]
     },
     "execution_count": 40,
     "metadata": {},
     "output_type": "execute_result"
    }
   ],
   "source": [
    "common_line"
   ]
  },
  {
   "cell_type": "code",
   "execution_count": 41,
   "metadata": {},
   "outputs": [
    {
     "data": {
      "text/plain": [
       "'rating.name'"
      ]
     },
     "execution_count": 41,
     "metadata": {},
     "output_type": "execute_result"
    }
   ],
   "source": [
    "common_line.strip().split(\" \")[0].replace(\":\", \"\")"
   ]
  },
  {
   "cell_type": "code",
   "execution_count": 42,
   "metadata": {},
   "outputs": [],
   "source": [
    "f1 = common_line.strip().split(\" \")[-3]"
   ]
  },
  {
   "cell_type": "code",
   "execution_count": 43,
   "metadata": {},
   "outputs": [
    {
     "data": {
      "text/plain": [
       "'85.48'"
      ]
     },
     "execution_count": 43,
     "metadata": {},
     "output_type": "execute_result"
    }
   ],
   "source": [
    "f1"
   ]
  },
  {
   "cell_type": "code",
   "execution_count": 46,
   "metadata": {},
   "outputs": [
    {
     "data": {
      "text/plain": [
       "[3, 4, 5, 6, 7, 8, 9]"
      ]
     },
     "execution_count": 46,
     "metadata": {},
     "output_type": "execute_result"
    }
   ],
   "source": [
    "list(range(3, 10))"
   ]
  },
  {
   "cell_type": "code",
   "execution_count": 52,
   "metadata": {},
   "outputs": [
    {
     "data": {
      "text/plain": [
       "24"
      ]
     },
     "execution_count": 52,
     "metadata": {},
     "output_type": "execute_result"
    }
   ],
   "source": [
    "len(lines)"
   ]
  },
  {
   "cell_type": "code",
   "execution_count": null,
   "metadata": {},
   "outputs": [],
   "source": []
  }
 ],
 "metadata": {
  "kernelspec": {
   "display_name": "Python 3",
   "language": "python",
   "name": "python3"
  },
  "language_info": {
   "codemirror_mode": {
    "name": "ipython",
    "version": 3
   },
   "file_extension": ".py",
   "mimetype": "text/x-python",
   "name": "python",
   "nbconvert_exporter": "python",
   "pygments_lexer": "ipython3",
   "version": "3.7.5"
  }
 },
 "nbformat": 4,
 "nbformat_minor": 2
}
